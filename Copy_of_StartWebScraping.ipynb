{
  "nbformat": 4,
  "nbformat_minor": 0,
  "metadata": {
    "colab": {
      "name": "Copy of StartWebScraping.ipynb",
      "version": "0.3.2",
      "provenance": [],
      "collapsed_sections": [],
      "include_colab_link": true
    },
    "kernelspec": {
      "name": "python3",
      "display_name": "Python 3"
    }
  },
  "cells": [
    {
      "cell_type": "markdown",
      "metadata": {
        "id": "view-in-github",
        "colab_type": "text"
      },
      "source": [
        "<a href=\"https://colab.research.google.com/github/taik09/Octopus/blob/master/Copy_of_StartWebScraping.ipynb\" target=\"_parent\"><img src=\"https://colab.research.google.com/assets/colab-badge.svg\" alt=\"Open In Colab\"/></a>"
      ]
    },
    {
      "metadata": {
        "id": "5ceOE25ZsP2P",
        "colab_type": "text"
      },
      "cell_type": "markdown",
      "source": [
        "# Get started\n",
        "\n",
        "Imoprt modules we'll need to get started\n",
        "\n",
        "\n",
        "\n",
        "[Requests](http://docs.python-requests.org/en/master/)\n",
        "\n",
        "[Beautiful soup](https://www.crummy.com/software/BeautifulSoup/)\n",
        "\n",
        "[Pandas](https://pandas.pydata.org/)\n",
        "\n",
        "[NLTK](https://www.nltk.org/)\n",
        "\n",
        "\n",
        "When you have time go read more about them from the links above!"
      ]
    },
    {
      "metadata": {
        "id": "T0h77uEbEC1k",
        "colab_type": "code",
        "colab": {}
      },
      "cell_type": "code",
      "source": [
        "# import request & beautiful soup\n",
        "# request is for getting content from a URL\n",
        "# beautiful soup is used to parse through the HTML we get from requests\n",
        "import requests\n",
        "from bs4 import BeautifulSoup\n",
        "\n"
      ],
      "execution_count": 0,
      "outputs": []
    },
    {
      "metadata": {
        "id": "USL3jIIbvSXu",
        "colab_type": "text"
      },
      "cell_type": "markdown",
      "source": [
        "Make a request to this page [sageelliott.com/scrape/](https://sageelliott.com/scrape/)\n",
        "\n",
        "This page has elements I made that will be good practice for web scraping\n"
      ]
    },
    {
      "metadata": {
        "id": "fisiQTBZsWam",
        "colab_type": "code",
        "colab": {}
      },
      "cell_type": "code",
      "source": [
        "# Make the request to a url\n",
        "r = requests.get('https://sageelliott.com/scrape/')\n"
      ],
      "execution_count": 0,
      "outputs": []
    },
    {
      "metadata": {
        "id": "kaDlHrIJvvzP",
        "colab_type": "code",
        "outputId": "68365be3-0eac-43e8-f630-ecb1afb98f4d",
        "colab": {
          "base_uri": "https://localhost:8080/",
          "height": 55
        }
      },
      "cell_type": "code",
      "source": [
        "# Lets look at what the request content looks like\n",
        "print(r.content)"
      ],
      "execution_count": 0,
      "outputs": [
        {
          "output_type": "stream",
          "text": [
            "b'<!DOCTYPE html>\\n<html>\\n\\n  <head>\\n  <meta charset=\"utf-8\">\\n  <meta http-equiv=\"X-UA-Compatible\" content=\"IE=edge\">\\n  <meta name=\"viewport\" content=\"width=device-width, initial-scale=1\">\\n\\n  <title>Web Scraping | Sage Elliott</title>\\n  <meta name=\"description\" content=\"I make things.\">\\n\\n  <link rel=\"stylesheet\" href=\"/css/main.css\">\\n  <link rel=\"canonical\" href=\"http://sageelliott.com/scrape/\">\\n  <link rel=\"alternate\" type=\"application/rss+xml\" title=\"Sage Elliott\" href=\"http://sageelliott.com/feed.xml\">\\n  <script src=\"https://code.jquery.com/jquery-2.1.3.min.js\"></script>\\n  <script src=\"/js/bootstrap.min.js\"></script>\\n  <script src=\"/js/script.js\"></script>\\n  <link rel=\"stylesheet\" href=\"/css/bootstrap.min.css\">\\n  <link rel=\"stylesheet\" href=\"/css/bootstrap-theme.min.css\">\\n  <link rel=\"stylesheet\" href=\"/css/style.css\">\\n  <link rel=\"stylesheet\" href=\"/css/responsive.css\">\\n  <link href=\\'https://fonts.googleapis.com/css?family=Pathway+Gothic+One|Alegreya:400italic,700italic,400,700|Alegreya+SC\\' rel=\\'stylesheet\\' type=\\'text/css\\'>\\n  <!-- Global site tag (gtag.js) - Google Analytics -->\\n  <script async src=\"https://www.googletagmanager.com/gtag/js?id=UA-121052385-1\"></script>\\n  <script>\\n    window.dataLayer = window.dataLayer || [];\\n    function gtag(){dataLayer.push(arguments);}\\n    gtag(\\'js\\', new Date());\\n\\n    gtag(\\'config\\', \\'UA-121052385-1\\');\\n  </script>\\n</head>\\n  <link rel=\"icon\" type=\"image/png\" href=\"/img/logoblack.png\">\\n\\n  <body data-spy=\"scroll\", data-target=\".navbar-collapse\">\\n\\n    <header class=\"site-header\">\\n\\n<!--   <div class=\"wrapper\">\\n -->\\n\\n  <!-- Navigation\\n==========================================================================-->\\n\\n<nav class=\"navbar navbar-default navbar-fixed-top\">\\n    <div class=\"container-fluid\">\\n        <!-- Brand and toggle get grouped for better mobile display -->\\n        <div class=\"navbar-header\">\\n            <button type=\"button\" class=\"navbar-toggle collapsed\" data-toggle=\"collapse\" data-target=\"#bs-example-navbar-collapse-1\" aria-expanded=\"false\">\\n                Menu\\n            </button>\\n            <a class=\"logo\" class=\"navbar-brand\" href=\"/\"><img alt=\"Sage Elliott Logo\" src=\"/img/logoblack.png\"> </a>\\n\\n        </div>\\n\\n        <!-- Collect the nav links, forms, and other content for toggling -->\\n        <div class=\"collapse navbar-collapse\" id=\"bs-example-navbar-collapse-1\">\\n            <ul class=\"nav navbar-nav navbar-text\">\\n                <li><a href=\"/\">Sage Elliott</a></li>\\n            </ul>\\n            <ul class=\"nav navbar-nav navbar-right\">\\n                <li><a class=\"page-link\" href=\"/\">About</a></li>\\n                <li><a class=\"page-link\" href=\"/projects\">Projects</a></li>\\n                <li><a class=\"page-link\" href=\"/blog\">Blog</a></li>\\n                <li><a class=\"page-link\" href=\"/speaking\">Speaking</a></li>\\n\\n            </ul>\\n        </div>\\n        <!-- /.navbar-collapse -->\\n    </div>\\n    <!-- /.container-fluid -->\\n</nav>\\n<!-- </div>\\n -->\\n\\n\\n</header>\\n\\n\\n\\n    <div class=\"page-content\">\\n    <div class=\"outer-wrapper\">\\n      <div class=\"wrapper\">\\n        <div class=\"main-content\">\\n<h1>Lots of stuff to try web scraping on!</h1>\\n\\n<p>This page is full of different tags that you will commonly see\\n    out in the wild on the web!</p>\\n\\n<h1>Example headlines</h1>\\n\\n<h2 class=\"headline\">I love this!</h2>\\n<h2 class=\"headline\">I hate this so much!</h2>\\n<h2 class=\"headline\">The dumbest thing happened</h2>\\n<h2 class=\"headline\">This is a great workshop!</h2>\\n<h2 class=\"headline\">This workshop is horrible</h2>\\n<h2 class=\"headline\">I\\'m tired...</h2>\\n<h2 class=\"headline\">This thing is ok...</h2>\\n\\n<h1>Example unordered list</h1>\\n\\n<ul>\\n    <li>Elon Musk is worth $21,000,000,000</li>\\n    <li>Jeff Bezos is worth $137,000,400,000 </li>\\n    <li>Bill Gates is worth $95,000,000,000</li>\\n    <li>Mark Zuckerburg is worth $54,600,000,000</li>\\n</ul>\\n\\n<h1>Example links</h1>\\n\\n<a href=\"https://www.galvanize.com/data-science-prep\">Data Science Free prep</a>\\n<a href=\"http://docs.python-requests.org/en/master/\">Python Requests</a>\\n<a href=\"https://www.crummy.com/software/BeautifulSoup/\">Beautiful Soup</a>\\n<a href=\"https://pandas.pydata.org/\">Pandas</a>\\n<a href=\"https://www.nltk.org/\">NLTK</a>\\n<a href=\"https://scrapy.org/\">Scrapy</a>\\n<a href=\"https://www.anaconda.com/\">Anaconda</a>\\n\\n</div>\\n      </div>\\n    </div>\\n\\n\\n    \\n<section id=\"footer\">\\n            <div class=\"row\">\\n                <div class=\"col-md-12\">\\n                    <p class=\"footerp\">\\n                        <a class=\"logo\" class=\"navbar-brand\" href=\"#top\">Sage Elliott</a>\\n                        <br>\\n                        <a href=\"mailto:hello@sageelliott.com\">hello@SageElliott.com</a>\\n                        <br>\\n                        <a href=\"https://twitter.com/sagecodes\">twitter</a> |\\n                        <a href=\"https://github.com/sagecodes\">github</a> |\\n                        <a href=\"https://www.linkedin.com/in/sageelliott\">linkedin</a>\\n                        <br> &copy; 2018 Sage Elliott\\n                    </p>\\n                </div>\\n            </div>\\n        </section>\\n\\n    </div>\\n\\n  </body>\\n\\n</html>\\n'\n"
          ],
          "name": "stdout"
        }
      ]
    },
    {
      "metadata": {
        "id": "qaxIk_fiqTG1",
        "colab_type": "text"
      },
      "cell_type": "markdown",
      "source": [
        "use Beautiful soup on content from requests \n",
        "This will make it much more readble when we print it out and allow us to use more Beautifulsoup functionality"
      ]
    },
    {
      "metadata": {
        "id": "e2g1gmvAvnAS",
        "colab_type": "code",
        "colab": {}
      },
      "cell_type": "code",
      "source": [
        "# use Beautifulsoup on content from request\n",
        "c = r.content\n",
        "soup = BeautifulSoup(c)"
      ],
      "execution_count": 0,
      "outputs": []
    },
    {
      "metadata": {
        "id": "mArM7Ee5v72j",
        "colab_type": "code",
        "outputId": "f3de0460-d7c0-4586-c022-470341737b40",
        "colab": {
          "base_uri": "https://localhost:8080/",
          "height": 2058
        }
      },
      "cell_type": "code",
      "source": [
        "# Look at the content formatted with Beautifulsoup\n",
        "print(soup)"
      ],
      "execution_count": 0,
      "outputs": [
        {
          "output_type": "stream",
          "text": [
            "<!DOCTYPE html>\n",
            "<html>\n",
            "<head>\n",
            "<meta charset=\"utf-8\"/>\n",
            "<meta content=\"IE=edge\" http-equiv=\"X-UA-Compatible\"/>\n",
            "<meta content=\"width=device-width, initial-scale=1\" name=\"viewport\"/>\n",
            "<title>Web Scraping | Sage Elliott</title>\n",
            "<meta content=\"I make things.\" name=\"description\"/>\n",
            "<link href=\"/css/main.css\" rel=\"stylesheet\"/>\n",
            "<link href=\"http://sageelliott.com/scrape/\" rel=\"canonical\"/>\n",
            "<link href=\"http://sageelliott.com/feed.xml\" rel=\"alternate\" title=\"Sage Elliott\" type=\"application/rss+xml\"/>\n",
            "<script src=\"https://code.jquery.com/jquery-2.1.3.min.js\"></script>\n",
            "<script src=\"/js/bootstrap.min.js\"></script>\n",
            "<script src=\"/js/script.js\"></script>\n",
            "<link href=\"/css/bootstrap.min.css\" rel=\"stylesheet\"/>\n",
            "<link href=\"/css/bootstrap-theme.min.css\" rel=\"stylesheet\"/>\n",
            "<link href=\"/css/style.css\" rel=\"stylesheet\"/>\n",
            "<link href=\"/css/responsive.css\" rel=\"stylesheet\"/>\n",
            "<link href=\"https://fonts.googleapis.com/css?family=Pathway+Gothic+One|Alegreya:400italic,700italic,400,700|Alegreya+SC\" rel=\"stylesheet\" type=\"text/css\"/>\n",
            "<!-- Global site tag (gtag.js) - Google Analytics -->\n",
            "<script async=\"\" src=\"https://www.googletagmanager.com/gtag/js?id=UA-121052385-1\"></script>\n",
            "<script>\n",
            "    window.dataLayer = window.dataLayer || [];\n",
            "    function gtag(){dataLayer.push(arguments);}\n",
            "    gtag('js', new Date());\n",
            "\n",
            "    gtag('config', 'UA-121052385-1');\n",
            "  </script>\n",
            "</head>\n",
            "<link href=\"/img/logoblack.png\" rel=\"icon\" type=\"image/png\"/>\n",
            "<body data-spy=\"scroll\" data-target=\".navbar-collapse\">\n",
            "<header class=\"site-header\">\n",
            "<!--   <div class=\"wrapper\">\n",
            " -->\n",
            "<!-- Navigation\n",
            "==========================================================================-->\n",
            "<nav class=\"navbar navbar-default navbar-fixed-top\">\n",
            "<div class=\"container-fluid\">\n",
            "<!-- Brand and toggle get grouped for better mobile display -->\n",
            "<div class=\"navbar-header\">\n",
            "<button aria-expanded=\"false\" class=\"navbar-toggle collapsed\" data-target=\"#bs-example-navbar-collapse-1\" data-toggle=\"collapse\" type=\"button\">\n",
            "                Menu\n",
            "            </button>\n",
            "<a class=\"logo\" href=\"/\"><img alt=\"Sage Elliott Logo\" src=\"/img/logoblack.png\"/> </a>\n",
            "</div>\n",
            "<!-- Collect the nav links, forms, and other content for toggling -->\n",
            "<div class=\"collapse navbar-collapse\" id=\"bs-example-navbar-collapse-1\">\n",
            "<ul class=\"nav navbar-nav navbar-text\">\n",
            "<li><a href=\"/\">Sage Elliott</a></li>\n",
            "</ul>\n",
            "<ul class=\"nav navbar-nav navbar-right\">\n",
            "<li><a class=\"page-link\" href=\"/\">About</a></li>\n",
            "<li><a class=\"page-link\" href=\"/projects\">Projects</a></li>\n",
            "<li><a class=\"page-link\" href=\"/blog\">Blog</a></li>\n",
            "<li><a class=\"page-link\" href=\"/speaking\">Speaking</a></li>\n",
            "</ul>\n",
            "</div>\n",
            "<!-- /.navbar-collapse -->\n",
            "</div>\n",
            "<!-- /.container-fluid -->\n",
            "</nav>\n",
            "<!-- </div>\n",
            " -->\n",
            "</header>\n",
            "<div class=\"page-content\">\n",
            "<div class=\"outer-wrapper\">\n",
            "<div class=\"wrapper\">\n",
            "<div class=\"main-content\">\n",
            "<h1>Lots of stuff to try web scraping on!</h1>\n",
            "<p>This page is full of different tags that you will commonly see\n",
            "    out in the wild on the web!</p>\n",
            "<h1>Example headlines</h1>\n",
            "<h2 class=\"headline\">I love this!</h2>\n",
            "<h2 class=\"headline\">I hate this so much!</h2>\n",
            "<h2 class=\"headline\">The dumbest thing happened</h2>\n",
            "<h2 class=\"headline\">This is a great workshop!</h2>\n",
            "<h2 class=\"headline\">This workshop is horrible</h2>\n",
            "<h2 class=\"headline\">I'm tired...</h2>\n",
            "<h2 class=\"headline\">This thing is ok...</h2>\n",
            "<h1>Example unordered list</h1>\n",
            "<ul>\n",
            "<li>Elon Musk is worth $21,000,000,000</li>\n",
            "<li>Jeff Bezos is worth $137,000,400,000 </li>\n",
            "<li>Bill Gates is worth $95,000,000,000</li>\n",
            "<li>Mark Zuckerburg is worth $54,600,000,000</li>\n",
            "</ul>\n",
            "<h1>Example links</h1>\n",
            "<a href=\"https://www.galvanize.com/data-science-prep\">Data Science Free prep</a>\n",
            "<a href=\"http://docs.python-requests.org/en/master/\">Python Requests</a>\n",
            "<a href=\"https://www.crummy.com/software/BeautifulSoup/\">Beautiful Soup</a>\n",
            "<a href=\"https://pandas.pydata.org/\">Pandas</a>\n",
            "<a href=\"https://www.nltk.org/\">NLTK</a>\n",
            "<a href=\"https://scrapy.org/\">Scrapy</a>\n",
            "<a href=\"https://www.anaconda.com/\">Anaconda</a>\n",
            "</div>\n",
            "</div>\n",
            "</div>\n",
            "<section id=\"footer\">\n",
            "<div class=\"row\">\n",
            "<div class=\"col-md-12\">\n",
            "<p class=\"footerp\">\n",
            "<a class=\"logo\" href=\"#top\">Sage Elliott</a>\n",
            "<br/>\n",
            "<a href=\"mailto:hello@sageelliott.com\">hello@SageElliott.com</a>\n",
            "<br/>\n",
            "<a href=\"https://twitter.com/sagecodes\">twitter</a> |\n",
            "                        <a href=\"https://github.com/sagecodes\">github</a> |\n",
            "                        <a href=\"https://www.linkedin.com/in/sageelliott\">linkedin</a>\n",
            "<br/> © 2018 Sage Elliott\n",
            "                    </p>\n",
            "</div>\n",
            "</div>\n",
            "</section>\n",
            "</div>\n",
            "</body>\n",
            "</html>\n",
            "\n"
          ],
          "name": "stdout"
        }
      ]
    },
    {
      "metadata": {
        "id": "7gUqKWNTcycX",
        "colab_type": "code",
        "outputId": "82e7c358-c6c6-489a-f0fb-33cfa16b4479",
        "colab": {
          "base_uri": "https://localhost:8080/",
          "height": 3561
        }
      },
      "cell_type": "code",
      "source": [
        "# using prettify() in Beautiful soup indents HTML like it should be in the web page\n",
        "# This can make reading teh HTML a little be easier\n",
        "print(soup.prettify())"
      ],
      "execution_count": 0,
      "outputs": [
        {
          "output_type": "stream",
          "text": [
            "<!DOCTYPE html>\n",
            "<html>\n",
            " <head>\n",
            "  <meta charset=\"utf-8\"/>\n",
            "  <meta content=\"IE=edge\" http-equiv=\"X-UA-Compatible\"/>\n",
            "  <meta content=\"width=device-width, initial-scale=1\" name=\"viewport\"/>\n",
            "  <title>\n",
            "   Web Scraping | Sage Elliott\n",
            "  </title>\n",
            "  <meta content=\"I make things.\" name=\"description\"/>\n",
            "  <link href=\"/css/main.css\" rel=\"stylesheet\"/>\n",
            "  <link href=\"http://sageelliott.com/scrape/\" rel=\"canonical\"/>\n",
            "  <link href=\"http://sageelliott.com/feed.xml\" rel=\"alternate\" title=\"Sage Elliott\" type=\"application/rss+xml\"/>\n",
            "  <script src=\"https://code.jquery.com/jquery-2.1.3.min.js\">\n",
            "  </script>\n",
            "  <script src=\"/js/bootstrap.min.js\">\n",
            "  </script>\n",
            "  <script src=\"/js/script.js\">\n",
            "  </script>\n",
            "  <link href=\"/css/bootstrap.min.css\" rel=\"stylesheet\"/>\n",
            "  <link href=\"/css/bootstrap-theme.min.css\" rel=\"stylesheet\"/>\n",
            "  <link href=\"/css/style.css\" rel=\"stylesheet\"/>\n",
            "  <link href=\"/css/responsive.css\" rel=\"stylesheet\"/>\n",
            "  <link href=\"https://fonts.googleapis.com/css?family=Pathway+Gothic+One|Alegreya:400italic,700italic,400,700|Alegreya+SC\" rel=\"stylesheet\" type=\"text/css\"/>\n",
            "  <!-- Global site tag (gtag.js) - Google Analytics -->\n",
            "  <script async=\"\" src=\"https://www.googletagmanager.com/gtag/js?id=UA-121052385-1\">\n",
            "  </script>\n",
            "  <script>\n",
            "   window.dataLayer = window.dataLayer || [];\n",
            "    function gtag(){dataLayer.push(arguments);}\n",
            "    gtag('js', new Date());\n",
            "\n",
            "    gtag('config', 'UA-121052385-1');\n",
            "  </script>\n",
            " </head>\n",
            " <link href=\"/img/logoblack.png\" rel=\"icon\" type=\"image/png\"/>\n",
            " <body data-spy=\"scroll\" data-target=\".navbar-collapse\">\n",
            "  <header class=\"site-header\">\n",
            "   <!--   <div class=\"wrapper\">\n",
            " -->\n",
            "   <!-- Navigation\n",
            "==========================================================================-->\n",
            "   <nav class=\"navbar navbar-default navbar-fixed-top\">\n",
            "    <div class=\"container-fluid\">\n",
            "     <!-- Brand and toggle get grouped for better mobile display -->\n",
            "     <div class=\"navbar-header\">\n",
            "      <button aria-expanded=\"false\" class=\"navbar-toggle collapsed\" data-target=\"#bs-example-navbar-collapse-1\" data-toggle=\"collapse\" type=\"button\">\n",
            "       Menu\n",
            "      </button>\n",
            "      <a class=\"logo\" href=\"/\">\n",
            "       <img alt=\"Sage Elliott Logo\" src=\"/img/logoblack.png\"/>\n",
            "      </a>\n",
            "     </div>\n",
            "     <!-- Collect the nav links, forms, and other content for toggling -->\n",
            "     <div class=\"collapse navbar-collapse\" id=\"bs-example-navbar-collapse-1\">\n",
            "      <ul class=\"nav navbar-nav navbar-text\">\n",
            "       <li>\n",
            "        <a href=\"/\">\n",
            "         Sage Elliott\n",
            "        </a>\n",
            "       </li>\n",
            "      </ul>\n",
            "      <ul class=\"nav navbar-nav navbar-right\">\n",
            "       <li>\n",
            "        <a class=\"page-link\" href=\"/\">\n",
            "         About\n",
            "        </a>\n",
            "       </li>\n",
            "       <li>\n",
            "        <a class=\"page-link\" href=\"/projects\">\n",
            "         Projects\n",
            "        </a>\n",
            "       </li>\n",
            "       <li>\n",
            "        <a class=\"page-link\" href=\"/blog\">\n",
            "         Blog\n",
            "        </a>\n",
            "       </li>\n",
            "       <li>\n",
            "        <a class=\"page-link\" href=\"/speaking\">\n",
            "         Speaking\n",
            "        </a>\n",
            "       </li>\n",
            "      </ul>\n",
            "     </div>\n",
            "     <!-- /.navbar-collapse -->\n",
            "    </div>\n",
            "    <!-- /.container-fluid -->\n",
            "   </nav>\n",
            "   <!-- </div>\n",
            " -->\n",
            "  </header>\n",
            "  <div class=\"page-content\">\n",
            "   <div class=\"outer-wrapper\">\n",
            "    <div class=\"wrapper\">\n",
            "     <div class=\"main-content\">\n",
            "      <h1>\n",
            "       Lots of stuff to try web scraping on!\n",
            "      </h1>\n",
            "      <p>\n",
            "       This page is full of different tags that you will commonly see\n",
            "    out in the wild on the web!\n",
            "      </p>\n",
            "      <h1>\n",
            "       Example headlines\n",
            "      </h1>\n",
            "      <h2 class=\"headline\">\n",
            "       I love this!\n",
            "      </h2>\n",
            "      <h2 class=\"headline\">\n",
            "       I hate this so much!\n",
            "      </h2>\n",
            "      <h2 class=\"headline\">\n",
            "       The dumbest thing happened\n",
            "      </h2>\n",
            "      <h2 class=\"headline\">\n",
            "       This is a great workshop!\n",
            "      </h2>\n",
            "      <h2 class=\"headline\">\n",
            "       This workshop is horrible\n",
            "      </h2>\n",
            "      <h2 class=\"headline\">\n",
            "       I'm tired...\n",
            "      </h2>\n",
            "      <h2 class=\"headline\">\n",
            "       This thing is ok...\n",
            "      </h2>\n",
            "      <h1>\n",
            "       Example unordered list\n",
            "      </h1>\n",
            "      <ul>\n",
            "       <li>\n",
            "        Elon Musk is worth $21,000,000,000\n",
            "       </li>\n",
            "       <li>\n",
            "        Jeff Bezos is worth $137,000,400,000\n",
            "       </li>\n",
            "       <li>\n",
            "        Bill Gates is worth $95,000,000,000\n",
            "       </li>\n",
            "       <li>\n",
            "        Mark Zuckerburg is worth $54,600,000,000\n",
            "       </li>\n",
            "      </ul>\n",
            "      <h1>\n",
            "       Example links\n",
            "      </h1>\n",
            "      <a href=\"https://www.galvanize.com/data-science-prep\">\n",
            "       Data Science Free prep\n",
            "      </a>\n",
            "      <a href=\"http://docs.python-requests.org/en/master/\">\n",
            "       Python Requests\n",
            "      </a>\n",
            "      <a href=\"https://www.crummy.com/software/BeautifulSoup/\">\n",
            "       Beautiful Soup\n",
            "      </a>\n",
            "      <a href=\"https://pandas.pydata.org/\">\n",
            "       Pandas\n",
            "      </a>\n",
            "      <a href=\"https://www.nltk.org/\">\n",
            "       NLTK\n",
            "      </a>\n",
            "      <a href=\"https://scrapy.org/\">\n",
            "       Scrapy\n",
            "      </a>\n",
            "      <a href=\"https://www.anaconda.com/\">\n",
            "       Anaconda\n",
            "      </a>\n",
            "     </div>\n",
            "    </div>\n",
            "   </div>\n",
            "   <section id=\"footer\">\n",
            "    <div class=\"row\">\n",
            "     <div class=\"col-md-12\">\n",
            "      <p class=\"footerp\">\n",
            "       <a class=\"logo\" href=\"#top\">\n",
            "        Sage Elliott\n",
            "       </a>\n",
            "       <br/>\n",
            "       <a href=\"mailto:hello@sageelliott.com\">\n",
            "        hello@SageElliott.com\n",
            "       </a>\n",
            "       <br/>\n",
            "       <a href=\"https://twitter.com/sagecodes\">\n",
            "        twitter\n",
            "       </a>\n",
            "       |\n",
            "       <a href=\"https://github.com/sagecodes\">\n",
            "        github\n",
            "       </a>\n",
            "       |\n",
            "       <a href=\"https://www.linkedin.com/in/sageelliott\">\n",
            "        linkedin\n",
            "       </a>\n",
            "       <br/>\n",
            "       © 2018 Sage Elliott\n",
            "      </p>\n",
            "     </div>\n",
            "    </div>\n",
            "   </section>\n",
            "  </div>\n",
            " </body>\n",
            "</html>\n",
            "\n"
          ],
          "name": "stdout"
        }
      ]
    },
    {
      "metadata": {
        "id": "vjuRzBSzqruq",
        "colab_type": "text"
      },
      "cell_type": "markdown",
      "source": [
        "Often the content that you want to scrape will be inside a tag like `div` or similar element. \n",
        "In this case when we look at our HTML we see that the actual content of the page is inside of a `div` with a class of `main-content`. \n",
        "\n",
        "Lets grab all the content inside that `div` and save it to a variable. "
      ]
    },
    {
      "metadata": {
        "id": "vmHYMk3jFPZE",
        "colab_type": "code",
        "outputId": "d312fa1d-4e83-413c-a25c-092f78eee6d9",
        "colab": {
          "base_uri": "https://localhost:8080/",
          "height": 501
        }
      },
      "cell_type": "code",
      "source": [
        "# get elements within the 'main-content' tag\n",
        "main_content = soup.find('div', attrs = {'class': 'main-content'})\n",
        "print(main_content)"
      ],
      "execution_count": 0,
      "outputs": [
        {
          "output_type": "stream",
          "text": [
            "<div class=\"main-content\">\n",
            "<h1>Lots of stuff to try web scraping on!</h1>\n",
            "<p>This page is full of different tags that you will commonly see\n",
            "    out in the wild on the web!</p>\n",
            "<h1>Example headlines</h1>\n",
            "<h2 class=\"headline\">I love this!</h2>\n",
            "<h2 class=\"headline\">I hate this so much!</h2>\n",
            "<h2 class=\"headline\">The dumbest thing happened</h2>\n",
            "<h2 class=\"headline\">This is a great workshop!</h2>\n",
            "<h2 class=\"headline\">This workshop is horrible</h2>\n",
            "<h2 class=\"headline\">I'm tired...</h2>\n",
            "<h2 class=\"headline\">This thing is ok...</h2>\n",
            "<h1>Example unordered list</h1>\n",
            "<ul>\n",
            "<li>Elon Musk is worth $21,000,000,000</li>\n",
            "<li>Jeff Bezos is worth $137,000,400,000 </li>\n",
            "<li>Bill Gates is worth $95,000,000,000</li>\n",
            "<li>Mark Zuckerburg is worth $54,600,000,000</li>\n",
            "</ul>\n",
            "<h1>Example links</h1>\n",
            "<a href=\"https://www.galvanize.com/data-science-prep\">Data Science Free prep</a>\n",
            "<a href=\"http://docs.python-requests.org/en/master/\">Python Requests</a>\n",
            "<a href=\"https://www.crummy.com/software/BeautifulSoup/\">Beautiful Soup</a>\n",
            "<a href=\"https://pandas.pydata.org/\">Pandas</a>\n",
            "<a href=\"https://www.nltk.org/\">NLTK</a>\n",
            "<a href=\"https://scrapy.org/\">Scrapy</a>\n",
            "<a href=\"https://www.anaconda.com/\">Anaconda</a>\n",
            "</div>\n"
          ],
          "name": "stdout"
        }
      ]
    },
    {
      "metadata": {
        "id": "hI7xt49WrW94",
        "colab_type": "text"
      },
      "cell_type": "markdown",
      "source": [
        "Lets drill deeper down into our content and look at different ways of selecting elements within our main-content div.\n",
        "\n",
        "We want to get just our items inside of the list"
      ]
    },
    {
      "metadata": {
        "id": "hsLCOzoYdwBZ",
        "colab_type": "code",
        "outputId": "05bec46c-461b-46ec-a0ee-1cbdfd203fa0",
        "colab": {
          "base_uri": "https://localhost:8080/",
          "height": 121
        }
      },
      "cell_type": "code",
      "source": [
        "# get the list items inside of a unorded list\n",
        "content = main_content.find('ul')\n",
        "\n",
        "print(content)"
      ],
      "execution_count": 0,
      "outputs": [
        {
          "output_type": "stream",
          "text": [
            "<ul>\n",
            "<li>Elon Musk is worth $21,000,000,000</li>\n",
            "<li>Jeff Bezos is worth $137,000,400,000 </li>\n",
            "<li>Bill Gates is worth $95,000,000,000</li>\n",
            "<li>Mark Zuckerburg is worth $54,600,000,000</li>\n",
            "</ul>\n"
          ],
          "name": "stdout"
        }
      ]
    },
    {
      "metadata": {
        "id": "DfUwHBJTrtG9",
        "colab_type": "text"
      },
      "cell_type": "markdown",
      "source": [
        "I'm going to be using examples like the above for most of this workshop, but I want to show that you could also chain the elements like the example below:"
      ]
    },
    {
      "metadata": {
        "id": "TWP1Q7O9r9Nl",
        "colab_type": "code",
        "outputId": "aabaf9d2-94ee-4d76-ce9d-e6495d73b1df",
        "colab": {
          "base_uri": "https://localhost:8080/",
          "height": 121
        }
      },
      "cell_type": "code",
      "source": [
        "# get elements within the 'main-content' tag\n",
        "list_content = soup.find('div', attrs = {'class': 'main-content'}).ul\n",
        "print(list_content)\n"
      ],
      "execution_count": 0,
      "outputs": [
        {
          "output_type": "stream",
          "text": [
            "<ul>\n",
            "<li>Elon Musk is worth $21,000,000,000</li>\n",
            "<li>Jeff Bezos is worth $137,000,400,000 </li>\n",
            "<li>Bill Gates is worth $95,000,000,000</li>\n",
            "<li>Mark Zuckerburg is worth $54,600,000,000</li>\n",
            "</ul>\n"
          ],
          "name": "stdout"
        }
      ]
    },
    {
      "metadata": {
        "id": "6SlsY630sATq",
        "colab_type": "text"
      },
      "cell_type": "markdown",
      "source": [
        "In the example above we still have all the HTML tags. \n",
        "Often you wont want the tags and you'll just be interested in the text between them.\n",
        "\n",
        "We can get the text between them using `.text` method from beautiful soup"
      ]
    },
    {
      "metadata": {
        "id": "QpmXn3PFsa5Q",
        "colab_type": "code",
        "outputId": "3d7dc000-e40f-49b9-e972-bb7d7c61cc0b",
        "colab": {
          "base_uri": "https://localhost:8080/",
          "height": 121
        }
      },
      "cell_type": "code",
      "source": [
        "# get the list items inside of a unorded list\n",
        "list_text_content = main_content.find('ul').text\n",
        "\n",
        "print(list_text_content)"
      ],
      "execution_count": 0,
      "outputs": [
        {
          "output_type": "stream",
          "text": [
            "\n",
            "Elon Musk is worth $21,000,000,000\n",
            "Jeff Bezos is worth $137,000,400,000 \n",
            "Bill Gates is worth $95,000,000,000\n",
            "Mark Zuckerburg is worth $54,600,000,000\n",
            "\n"
          ],
          "name": "stdout"
        }
      ]
    },
    {
      "metadata": {
        "id": "owsuv5r5twSQ",
        "colab_type": "text"
      },
      "cell_type": "markdown",
      "source": [
        "Lets get the headline elements\n",
        "\n",
        "When we look at the HTML we can see that they all have `h2` tags. \n"
      ]
    },
    {
      "metadata": {
        "id": "N_cECgWQtwlk",
        "colab_type": "code",
        "outputId": "45878c03-ef37-4acb-e107-ebc45420a44a",
        "colab": {
          "base_uri": "https://localhost:8080/",
          "height": 35
        }
      },
      "cell_type": "code",
      "source": [
        "# Try to get h2 elements\n",
        "content = main_content.find('h2').text\n",
        "\n",
        "print(content)"
      ],
      "execution_count": 0,
      "outputs": [
        {
          "output_type": "stream",
          "text": [
            "I love this!\n"
          ],
          "name": "stdout"
        }
      ]
    },
    {
      "metadata": {
        "id": "5XbD-OTNtw9N",
        "colab_type": "text"
      },
      "cell_type": "markdown",
      "source": [
        "Oh no! It looks like when using `.find()` it only returns the first matching element on the page.\n",
        "\n",
        "We can get all the matching elements by using the`.find_all()` method"
      ]
    },
    {
      "metadata": {
        "id": "zmzxTDOeefmN",
        "colab_type": "code",
        "outputId": "ee93d1ea-5565-48a7-e11f-800e35edf156",
        "colab": {
          "base_uri": "https://localhost:8080/",
          "height": 55
        }
      },
      "cell_type": "code",
      "source": [
        "# get all the h2s on the page and display each one\n",
        "content = main_content.find_all('h2')\n",
        "\n",
        "print(content)\n"
      ],
      "execution_count": 0,
      "outputs": [
        {
          "output_type": "stream",
          "text": [
            "[<h2 class=\"headline\">I love this!</h2>, <h2 class=\"headline\">I hate this so much!</h2>, <h2 class=\"headline\">The dumbest thing happened</h2>, <h2 class=\"headline\">This is a great workshop!</h2>, <h2 class=\"headline\">This workshop is horrible</h2>, <h2 class=\"headline\">I'm tired...</h2>, <h2 class=\"headline\">This thing is ok...</h2>]\n"
          ],
          "name": "stdout"
        }
      ]
    },
    {
      "metadata": {
        "id": "gWLelycXwlHk",
        "colab_type": "text"
      },
      "cell_type": "markdown",
      "source": [
        "Notice when we print out content above it have the HTML h2 elements seperated by commas inside brackets []. This is called a `list`. Its ofen used to store multiple values in. \n",
        "\n",
        "Lists are iterable, and we can go through each item inside to print them out\n",
        "\n"
      ]
    },
    {
      "metadata": {
        "id": "97Rv0YsJwlUL",
        "colab_type": "code",
        "outputId": "0620de10-efd5-4f5c-f1f3-1f7d74b86724",
        "colab": {
          "base_uri": "https://localhost:8080/",
          "height": 138
        }
      },
      "cell_type": "code",
      "source": [
        "# Iterate content list and print out text inside each h2 element\n",
        "\n",
        "for h2 in content:\n",
        "    print(h2.text)"
      ],
      "execution_count": 0,
      "outputs": [
        {
          "output_type": "stream",
          "text": [
            "I love this!\n",
            "I hate this so much!\n",
            "The dumbest thing happened\n",
            "This is a great workshop!\n",
            "This workshop is horrible\n",
            "I'm tired...\n",
            "This thing is ok...\n"
          ],
          "name": "stdout"
        }
      ]
    },
    {
      "metadata": {
        "id": "DBWcxH6saZph",
        "colab_type": "text"
      },
      "cell_type": "markdown",
      "source": [
        "Here we look at an example of finding all the links.\n",
        "\n",
        "We then pring out the link text and the URL(href)"
      ]
    },
    {
      "metadata": {
        "id": "BZKMO-7bg7Ol",
        "colab_type": "code",
        "outputId": "3e3af7a7-2eb5-48bf-ede8-6a4c7cddc773",
        "colab": {
          "base_uri": "https://localhost:8080/",
          "height": 259
        }
      },
      "cell_type": "code",
      "source": [
        "# Get all links(a) in the main_content div. \n",
        "# for each link in list print link text and the link URL(href)\n",
        "\n",
        "content = main_content.find_all('a')\n",
        "\n",
        "for link in content:\n",
        "    print(link.text+\":\")\n",
        "    print(link['href'])\n"
      ],
      "execution_count": 0,
      "outputs": [
        {
          "output_type": "stream",
          "text": [
            "Data Science Free prep:\n",
            "https://www.galvanize.com/data-science-prep\n",
            "Python Requests:\n",
            "http://docs.python-requests.org/en/master/\n",
            "Beautiful Soup:\n",
            "https://www.crummy.com/software/BeautifulSoup/\n",
            "Pandas:\n",
            "https://pandas.pydata.org/\n",
            "NLTK:\n",
            "https://www.nltk.org/\n",
            "Scrapy:\n",
            "https://scrapy.org/\n",
            "Anaconda:\n",
            "https://www.anaconda.com/\n"
          ],
          "name": "stdout"
        }
      ]
    },
    {
      "metadata": {
        "id": "qV0x2bkkvLm8",
        "colab_type": "text"
      },
      "cell_type": "markdown",
      "source": [
        "# Data Cleaning / reformatting"
      ]
    },
    {
      "metadata": {
        "id": "kw9Q7nXljKaP",
        "colab_type": "text"
      },
      "cell_type": "markdown",
      "source": [
        "Now that we have used some ways to get data lets do some data cleaning with [Regex](https://regexr.com/). regex allows us to search for patterns in data types. It's super powerful, but can feel very complicated when starting out. I'm not going to go too deep into Regex, but I encourage you to learn more about it on your own!\n",
        "\n",
        "Lets look at our list items again"
      ]
    },
    {
      "metadata": {
        "id": "8u6YKX5vjcPK",
        "colab_type": "code",
        "outputId": "2d4bc6bd-3999-47a4-ced6-4ffb1d22d5f7",
        "colab": {
          "base_uri": "https://localhost:8080/",
          "height": 121
        }
      },
      "cell_type": "code",
      "source": [
        "# get the list items inside of a unorded list\n",
        "list_text_content = main_content.find('ul').text\n",
        "\n",
        "print(list_text_content)"
      ],
      "execution_count": 0,
      "outputs": [
        {
          "output_type": "stream",
          "text": [
            "\n",
            "Elon Musk is worth $21,000,000,000\n",
            "Jeff Bezos is worth $137,000,400,000 \n",
            "Bill Gates is worth $95,000,000,000\n",
            "Mark Zuckerburg is worth $54,600,000,000\n",
            "\n"
          ],
          "name": "stdout"
        }
      ]
    },
    {
      "metadata": {
        "id": "JOaRCEq2jdIX",
        "colab_type": "text"
      },
      "cell_type": "markdown",
      "source": [
        "Our list items are all text. But what if we want to get just the numbers do we can do numerical operations on them?"
      ]
    },
    {
      "metadata": {
        "id": "MiWhO_UB189o",
        "colab_type": "code",
        "colab": {}
      },
      "cell_type": "code",
      "source": [
        "# import Regex\n",
        "import re"
      ],
      "execution_count": 0,
      "outputs": []
    },
    {
      "metadata": {
        "id": "NU4bRQ881wbI",
        "colab_type": "code",
        "outputId": "301465c3-f2ca-4e48-d6c6-61f67a889944",
        "colab": {
          "base_uri": "https://localhost:8080/",
          "height": 35
        }
      },
      "cell_type": "code",
      "source": [
        "# Pattern to match the salaries | does this line start with a dollar sign?\n",
        "salary_pattern = re.compile(r'\\$.+')\n",
        "salaries = salary_pattern.findall(list_text_content)\n",
        "\n",
        "print(salaries)"
      ],
      "execution_count": 0,
      "outputs": [
        {
          "output_type": "stream",
          "text": [
            "['$21,000,000,000', '$137,000,400,000 ', '$95,000,000,000', '$54,600,000,000']\n"
          ],
          "name": "stdout"
        }
      ]
    },
    {
      "metadata": {
        "id": "rM44_A_93b5L",
        "colab_type": "text"
      },
      "cell_type": "markdown",
      "source": [
        "This is great! We now have a list of the salaries, but there is still a problem if we want to do any numerical opporations or visualizations on it.\n",
        "\n",
        "They are still strings!"
      ]
    },
    {
      "metadata": {
        "id": "tLdEMLIA2CoN",
        "colab_type": "code",
        "outputId": "20cd1710-6e86-4cfa-ca98-9aabbb9abdd0",
        "colab": {
          "base_uri": "https://localhost:8080/",
          "height": 35
        }
      },
      "cell_type": "code",
      "source": [
        "# Convert to numbers \n",
        "num_salaries = [int(''.join(s[1:].split(','))) for s in salaries]\n",
        "\n",
        "num_salaries\n"
      ],
      "execution_count": 0,
      "outputs": [
        {
          "output_type": "execute_result",
          "data": {
            "text/plain": [
              "[21000000000, 137000400000, 95000000000, 54600000000]"
            ]
          },
          "metadata": {
            "tags": []
          },
          "execution_count": 18
        }
      ]
    },
    {
      "metadata": {
        "id": "bsa_88FZKlPM",
        "colab_type": "text"
      },
      "cell_type": "markdown",
      "source": [
        "Lets do something useful with those numbers that we couldn't do if they were still text.\n",
        "\n",
        "We'll get the sum of all to see what the combined networth is:"
      ]
    },
    {
      "metadata": {
        "id": "l_ziszvy2HmV",
        "colab_type": "code",
        "outputId": "1aa185dc-670a-4079-99d8-3a11a29d8d9f",
        "colab": {
          "base_uri": "https://localhost:8080/",
          "height": 35
        }
      },
      "cell_type": "code",
      "source": [
        "# combined networth\n",
        "combined_worth = sum(num_salaries)\n",
        "\n",
        "print(combined_worth)\n",
        "\n"
      ],
      "execution_count": 0,
      "outputs": [
        {
          "output_type": "stream",
          "text": [
            "307600400000\n"
          ],
          "name": "stdout"
        }
      ]
    },
    {
      "metadata": {
        "id": "hrucZIMzK3AB",
        "colab_type": "text"
      },
      "cell_type": "markdown",
      "source": [
        "Awesome it worked! Lets go ahead and make it a little more readable to our human eyes"
      ]
    },
    {
      "metadata": {
        "id": "42uRHbZU7ECN",
        "colab_type": "code",
        "outputId": "c0b68036-1b4e-460b-da32-9dab6d142337",
        "colab": {
          "base_uri": "https://localhost:8080/",
          "height": 35
        }
      },
      "cell_type": "code",
      "source": [
        "print (\"Combined worth is: ${:,}\".format(combined_worth))"
      ],
      "execution_count": 0,
      "outputs": [
        {
          "output_type": "stream",
          "text": [
            "Combined worth is: $307,600,400,000\n"
          ],
          "name": "stdout"
        }
      ]
    },
    {
      "metadata": {
        "id": "FnWLaBnrLC5C",
        "colab_type": "text"
      },
      "cell_type": "markdown",
      "source": [
        "Not bad! But we can do even better, that is a lot of decimals"
      ]
    },
    {
      "metadata": {
        "id": "VHtRkjQuJc3i",
        "colab_type": "code",
        "outputId": "21fb68a6-2e20-43a1-e09a-cdcdb87e7446",
        "colab": {
          "base_uri": "https://localhost:8080/",
          "height": 35
        }
      },
      "cell_type": "code",
      "source": [
        "# Even More readable format\n",
        "worth_billions = float(combined_worth /1000000000)\n",
        "\n",
        "print (\"Combined worth is: ${:.2f} billion\".format(worth_billions))"
      ],
      "execution_count": 0,
      "outputs": [
        {
          "output_type": "stream",
          "text": [
            "Combined worth is: $307.60 billion\n"
          ],
          "name": "stdout"
        }
      ]
    },
    {
      "metadata": {
        "id": "jnQ4eqqY2d8D",
        "colab_type": "text"
      },
      "cell_type": "markdown",
      "source": [
        "Cool! Now lets also get the list of names from the list\n",
        "\n",
        "We know that they are characters beginning on the line and the end before the word \"is\". \n",
        "\n",
        "Again, I'm not going to go deep into [Regex](https://regexr.com/) but learn more about it [here](https://regexr.com/)!\n",
        "\n"
      ]
    },
    {
      "metadata": {
        "id": "1XDcZHMvjkGq",
        "colab_type": "code",
        "outputId": "e0137fd2-43d4-4ae3-e0c1-76042f74c831",
        "colab": {
          "base_uri": "https://localhost:8080/",
          "height": 35
        }
      },
      "cell_type": "code",
      "source": [
        "# Create a pattern to match the names\n",
        "name_pattern = re.compile(r'^([A-Z]{1}.+?)(?:is)', flags = re.M)\n",
        "names = name_pattern.findall(list_text_content)\n",
        "\n",
        "print(names)"
      ],
      "execution_count": 0,
      "outputs": [
        {
          "output_type": "stream",
          "text": [
            "['Elon Musk ', 'Jeff Bezos ', 'Bill Gates ', 'Mark Zuckerburg ']\n"
          ],
          "name": "stdout"
        }
      ]
    },
    {
      "metadata": {
        "id": "G3B21YQWLqdl",
        "colab_type": "text"
      },
      "cell_type": "markdown",
      "source": [
        "We now have a list of Names(text) and a list of Salaries(numbers)\n",
        "\n",
        "We want to put these together in various ways to help us look at the data.\n",
        "\n",
        "This is where [pandas](https://pandas.pydata.org/) will come in handy.\n",
        "\n",
        "Again in this we're only going to scratch the surface. You should read more about the features it has and experiment outside of this workshop. "
      ]
    },
    {
      "metadata": {
        "id": "z0ukdUM02vPR",
        "colab_type": "code",
        "colab": {}
      },
      "cell_type": "code",
      "source": [
        "# import pandas\n",
        "import pandas as pd"
      ],
      "execution_count": 0,
      "outputs": []
    },
    {
      "metadata": {
        "id": "hEj79H7bKGqz",
        "colab_type": "code",
        "colab": {}
      },
      "cell_type": "code",
      "source": [
        "# Put information into a dataframe\n",
        "table = pd.DataFrame({'salary': num_salaries, \n",
        "                   'Name': names,})"
      ],
      "execution_count": 0,
      "outputs": []
    },
    {
      "metadata": {
        "id": "_RqAPH0OMhNV",
        "colab_type": "code",
        "outputId": "b921bb21-bc48-4ef2-beab-fab267520bc8",
        "colab": {
          "base_uri": "https://localhost:8080/",
          "height": 168
        }
      },
      "cell_type": "code",
      "source": [
        "table"
      ],
      "execution_count": 0,
      "outputs": [
        {
          "output_type": "execute_result",
          "data": {
            "text/html": [
              "<div>\n",
              "<style scoped>\n",
              "    .dataframe tbody tr th:only-of-type {\n",
              "        vertical-align: middle;\n",
              "    }\n",
              "\n",
              "    .dataframe tbody tr th {\n",
              "        vertical-align: top;\n",
              "    }\n",
              "\n",
              "    .dataframe thead th {\n",
              "        text-align: right;\n",
              "    }\n",
              "</style>\n",
              "<table border=\"1\" class=\"dataframe\">\n",
              "  <thead>\n",
              "    <tr style=\"text-align: right;\">\n",
              "      <th></th>\n",
              "      <th>Name</th>\n",
              "      <th>salary</th>\n",
              "    </tr>\n",
              "  </thead>\n",
              "  <tbody>\n",
              "    <tr>\n",
              "      <th>0</th>\n",
              "      <td>Elon Musk</td>\n",
              "      <td>21000000000</td>\n",
              "    </tr>\n",
              "    <tr>\n",
              "      <th>1</th>\n",
              "      <td>Jeff Bezos</td>\n",
              "      <td>137000400000</td>\n",
              "    </tr>\n",
              "    <tr>\n",
              "      <th>2</th>\n",
              "      <td>Bill Gates</td>\n",
              "      <td>95000000000</td>\n",
              "    </tr>\n",
              "    <tr>\n",
              "      <th>3</th>\n",
              "      <td>Mark Zuckerburg</td>\n",
              "      <td>54600000000</td>\n",
              "    </tr>\n",
              "  </tbody>\n",
              "</table>\n",
              "</div>"
            ],
            "text/plain": [
              "               Name        salary\n",
              "0        Elon Musk    21000000000\n",
              "1       Jeff Bezos   137000400000\n",
              "2       Bill Gates    95000000000\n",
              "3  Mark Zuckerburg    54600000000"
            ]
          },
          "metadata": {
            "tags": []
          },
          "execution_count": 25
        }
      ]
    },
    {
      "metadata": {
        "id": "AagKak9VNCsG",
        "colab_type": "text"
      },
      "cell_type": "markdown",
      "source": [
        "Hey that is much easier to read!\n",
        "\n",
        "But lets say we want to sort it buy who is worth the most, so we can see where people stand at a glance. "
      ]
    },
    {
      "metadata": {
        "id": "2vCcZv8vKn7k",
        "colab_type": "text"
      },
      "cell_type": "markdown",
      "source": [
        ""
      ]
    },
    {
      "metadata": {
        "id": "cwYfNIVDKoOb",
        "colab_type": "text"
      },
      "cell_type": "markdown",
      "source": [
        ""
      ]
    },
    {
      "metadata": {
        "id": "pfG4F06W2Mu1",
        "colab_type": "code",
        "colab": {}
      },
      "cell_type": "code",
      "source": [
        "# Sort the values by highest to lowest salary\n",
        "table = table.sort_values('salary', ascending=False).reset_index().drop(columns='index')\n"
      ],
      "execution_count": 0,
      "outputs": []
    },
    {
      "metadata": {
        "id": "DRUJ1jfQK2Jr",
        "colab_type": "text"
      },
      "cell_type": "markdown",
      "source": [
        ""
      ]
    },
    {
      "metadata": {
        "id": "dHI1NgLXKPSV",
        "colab_type": "code",
        "outputId": "949c39d4-0a95-4b87-9b19-a3c96eb41b42",
        "colab": {
          "base_uri": "https://localhost:8080/",
          "height": 168
        }
      },
      "cell_type": "code",
      "source": [
        "table"
      ],
      "execution_count": 0,
      "outputs": [
        {
          "output_type": "execute_result",
          "data": {
            "text/html": [
              "<div>\n",
              "<style scoped>\n",
              "    .dataframe tbody tr th:only-of-type {\n",
              "        vertical-align: middle;\n",
              "    }\n",
              "\n",
              "    .dataframe tbody tr th {\n",
              "        vertical-align: top;\n",
              "    }\n",
              "\n",
              "    .dataframe thead th {\n",
              "        text-align: right;\n",
              "    }\n",
              "</style>\n",
              "<table border=\"1\" class=\"dataframe\">\n",
              "  <thead>\n",
              "    <tr style=\"text-align: right;\">\n",
              "      <th></th>\n",
              "      <th>Name</th>\n",
              "      <th>salary</th>\n",
              "    </tr>\n",
              "  </thead>\n",
              "  <tbody>\n",
              "    <tr>\n",
              "      <th>0</th>\n",
              "      <td>Jeff Bezos</td>\n",
              "      <td>137000400000</td>\n",
              "    </tr>\n",
              "    <tr>\n",
              "      <th>1</th>\n",
              "      <td>Bill Gates</td>\n",
              "      <td>95000000000</td>\n",
              "    </tr>\n",
              "    <tr>\n",
              "      <th>2</th>\n",
              "      <td>Mark Zuckerburg</td>\n",
              "      <td>54600000000</td>\n",
              "    </tr>\n",
              "    <tr>\n",
              "      <th>3</th>\n",
              "      <td>Elon Musk</td>\n",
              "      <td>21000000000</td>\n",
              "    </tr>\n",
              "  </tbody>\n",
              "</table>\n",
              "</div>"
            ],
            "text/plain": [
              "               Name        salary\n",
              "0       Jeff Bezos   137000400000\n",
              "1       Bill Gates    95000000000\n",
              "2  Mark Zuckerburg    54600000000\n",
              "3        Elon Musk    21000000000"
            ]
          },
          "metadata": {
            "tags": []
          },
          "execution_count": 27
        }
      ]
    },
    {
      "metadata": {
        "id": "wVaQSPW3NltX",
        "colab_type": "text"
      },
      "cell_type": "markdown",
      "source": [
        "Awesome! Lets a do a quick bar graph to make it even easier!\n",
        "\n"
      ]
    },
    {
      "metadata": {
        "id": "rQ6eLwLS5sld",
        "colab_type": "code",
        "outputId": "f016f74f-94f6-4c7b-e9d9-ac0a70460b46",
        "colab": {
          "base_uri": "https://localhost:8080/",
          "height": 440
        }
      },
      "cell_type": "code",
      "source": [
        "table.plot(kind='bar', x = 'Name', y = 'salary');"
      ],
      "execution_count": 0,
      "outputs": [
        {
          "output_type": "display_data",
          "data": {
            "image/png": "[encoded data removed]",
            "text/plain": [
              "<Figure size 576x396 with 1 Axes>"
            ]
          },
          "metadata": {
            "tags": []
          }
        }
      ]
    },
    {
      "metadata": {
        "id": "W_nk7ZqMsg5R",
        "colab_type": "text"
      },
      "cell_type": "markdown",
      "source": [
        "# Text Analysis"
      ]
    },
    {
      "metadata": {
        "id": "pv54dRWqruGz",
        "colab_type": "text"
      },
      "cell_type": "markdown",
      "source": [
        "Lets do some sentiment analysis on our headlines `h2` elements\n",
        "\n",
        "Maybe we're looking at a list of News headlines and we only want to read the ones we think are positive"
      ]
    },
    {
      "metadata": {
        "id": "1BEkoKegP_QV",
        "colab_type": "code",
        "colab": {}
      },
      "cell_type": "code",
      "source": [
        "# get all the h2s on the page and display each one\n",
        "content = main_content.find_all('h2')\n"
      ],
      "execution_count": 0,
      "outputs": []
    },
    {
      "metadata": {
        "id": "TPzw0YW-QhY5",
        "colab_type": "code",
        "outputId": "708b4092-9d81-4c63-9e1d-65fda2163634",
        "colab": {
          "base_uri": "https://localhost:8080/",
          "height": 55
        }
      },
      "cell_type": "code",
      "source": [
        "print(content)"
      ],
      "execution_count": 0,
      "outputs": [
        {
          "output_type": "stream",
          "text": [
            "[<h2 class=\"headline\">I love this!</h2>, <h2 class=\"headline\">I hate this so much!</h2>, <h2 class=\"headline\">The dumbest thing happened</h2>, <h2 class=\"headline\">This is a great workshop!</h2>, <h2 class=\"headline\">This workshop is horrible</h2>, <h2 class=\"headline\">I'm tired...</h2>, <h2 class=\"headline\">This thing is ok...</h2>]\n"
          ],
          "name": "stdout"
        }
      ]
    },
    {
      "metadata": {
        "id": "UaM-Q15JQfRE",
        "colab_type": "code",
        "colab": {}
      },
      "cell_type": "code",
      "source": [
        "dataset =[]\n",
        "\n",
        "for h2 in content:\n",
        "    dataset.append(h2.text)\n",
        "    \n"
      ],
      "execution_count": 0,
      "outputs": []
    },
    {
      "metadata": {
        "id": "nMwxZcffQp-b",
        "colab_type": "code",
        "outputId": "b521ba16-fb19-45bd-9c1c-35ccbd15ee28",
        "colab": {
          "base_uri": "https://localhost:8080/",
          "height": 55
        }
      },
      "cell_type": "code",
      "source": [
        "print(dataset)"
      ],
      "execution_count": 0,
      "outputs": [
        {
          "output_type": "stream",
          "text": [
            "['I love this!', 'I hate this so much!', 'The dumbest thing happened', 'This is a great workshop!', 'This workshop is horrible', \"I'm tired...\", 'This thing is ok...']\n"
          ],
          "name": "stdout"
        }
      ]
    },
    {
      "metadata": {
        "id": "ZA6fONMFRwQ6",
        "colab_type": "text"
      },
      "cell_type": "markdown",
      "source": [
        "Import [NLTK](https://www.nltk.org/)(Natural Language Toolkit) python module\n",
        "\n",
        "Yet again we're only going to use just a tiny bit of NLTK, but if you're intertested in Natural Language Processing you should totally read more about it!!!"
      ]
    },
    {
      "metadata": {
        "id": "ek-ovom_SH3m",
        "colab_type": "code",
        "outputId": "28b70e3d-114b-40e9-8940-6d4344f08bcc",
        "colab": {
          "base_uri": "https://localhost:8080/",
          "height": 52
        }
      },
      "cell_type": "code",
      "source": [
        "\n",
        "import nltk\n",
        "nltk.download('vader_lexicon')"
      ],
      "execution_count": 0,
      "outputs": [
        {
          "output_type": "stream",
          "text": [
            "[nltk_data] Downloading package vader_lexicon to /root/nltk_data...\n"
          ],
          "name": "stdout"
        },
        {
          "output_type": "execute_result",
          "data": {
            "text/plain": [
              "True"
            ]
          },
          "metadata": {
            "tags": []
          },
          "execution_count": 63
        }
      ]
    },
    {
      "metadata": {
        "id": "gfjHMKGCl2Rj",
        "colab_type": "code",
        "outputId": "d6b4faed-2b8f-4d87-8fef-1312e58f35da",
        "colab": {
          "base_uri": "https://localhost:8080/",
          "height": 72
        }
      },
      "cell_type": "code",
      "source": [
        "from nltk.sentiment.vader import SentimentIntensityAnalyzer\n",
        "\n",
        "def sentiment(sentence):    \n",
        "    sentiment = SentimentIntensityAnalyzer()\n",
        "    score = sentiment.polarity_scores(sentence)\n",
        "    return score\n",
        " "
      ],
      "execution_count": 0,
      "outputs": [
        {
          "output_type": "stream",
          "text": [
            "/usr/local/lib/python3.6/dist-packages/nltk/twitter/__init__.py:20: UserWarning: The twython library has not been installed. Some functionality from the twitter package will not be available.\n",
            "  warnings.warn(\"The twython library has not been installed. \"\n"
          ],
          "name": "stderr"
        }
      ]
    },
    {
      "metadata": {
        "id": "PkADv4rkSle_",
        "colab_type": "code",
        "outputId": "72a1bb30-4e99-4958-ed68-0258f6fdcf15",
        "colab": {
          "base_uri": "https://localhost:8080/",
          "height": 501
        }
      },
      "cell_type": "code",
      "source": [
        "for headline in dataset:\n",
        "  print(\"\\n\")\n",
        "  print(headline)\n",
        "  print(sentiment(headline))"
      ],
      "execution_count": 0,
      "outputs": [
        {
          "output_type": "stream",
          "text": [
            "\n",
            "\n",
            "I love this!\n",
            "{'neg': 0.0, 'neu': 0.182, 'pos': 0.818, 'compound': 0.6696}\n",
            "\n",
            "\n",
            "I hate this so much!\n",
            "{'neg': 0.571, 'neu': 0.429, 'pos': 0.0, 'compound': -0.6114}\n",
            "\n",
            "\n",
            "The dumbest thing happened\n",
            "{'neg': 0.524, 'neu': 0.476, 'pos': 0.0, 'compound': -0.5106}\n",
            "\n",
            "\n",
            "This is a great workshop!\n",
            "{'neg': 0.0, 'neu': 0.406, 'pos': 0.594, 'compound': 0.6588}\n",
            "\n",
            "\n",
            "This workshop is horrible\n",
            "{'neg': 0.538, 'neu': 0.462, 'pos': 0.0, 'compound': -0.5423}\n",
            "\n",
            "\n",
            "I'm tired...\n",
            "{'neg': 0.0, 'neu': 1.0, 'pos': 0.0, 'compound': 0.0}\n",
            "\n",
            "\n",
            "This thing is ok...\n",
            "{'neg': 0.0, 'neu': 1.0, 'pos': 0.0, 'compound': 0.0}\n"
          ],
          "name": "stdout"
        }
      ]
    },
    {
      "metadata": {
        "id": "hvpOgtQouO0H",
        "colab_type": "text"
      },
      "cell_type": "markdown",
      "source": [
        "Lets use Pandas to make our output better"
      ]
    },
    {
      "metadata": {
        "id": "Q97bG3kBsP5e",
        "colab_type": "code",
        "outputId": "bafc2020-c220-4e86-ae9c-59ba62985bc6",
        "colab": {
          "base_uri": "https://localhost:8080/",
          "height": 258
        }
      },
      "cell_type": "code",
      "source": [
        "nltk_results = [sentiment(headline) for headline in dataset]\n",
        "\n",
        "import pandas as pd\n",
        "results_df = pd.DataFrame(nltk_results)\n",
        "text_df = pd.DataFrame(dataset, columns = ['headline'])\n",
        "nltk_df = text_df.join(results_df)\n",
        "\n",
        "#print(nltk_results)\n",
        "nltk_df\n"
      ],
      "execution_count": 0,
      "outputs": [
        {
          "output_type": "execute_result",
          "data": {
            "text/html": [
              "<div>\n",
              "<style scoped>\n",
              "    .dataframe tbody tr th:only-of-type {\n",
              "        vertical-align: middle;\n",
              "    }\n",
              "\n",
              "    .dataframe tbody tr th {\n",
              "        vertical-align: top;\n",
              "    }\n",
              "\n",
              "    .dataframe thead th {\n",
              "        text-align: right;\n",
              "    }\n",
              "</style>\n",
              "<table border=\"1\" class=\"dataframe\">\n",
              "  <thead>\n",
              "    <tr style=\"text-align: right;\">\n",
              "      <th></th>\n",
              "      <th>headline</th>\n",
              "      <th>compound</th>\n",
              "      <th>neg</th>\n",
              "      <th>neu</th>\n",
              "      <th>pos</th>\n",
              "    </tr>\n",
              "  </thead>\n",
              "  <tbody>\n",
              "    <tr>\n",
              "      <th>0</th>\n",
              "      <td>I love this!</td>\n",
              "      <td>0.6696</td>\n",
              "      <td>0.000</td>\n",
              "      <td>0.182</td>\n",
              "      <td>0.818</td>\n",
              "    </tr>\n",
              "    <tr>\n",
              "      <th>1</th>\n",
              "      <td>I hate this so much!</td>\n",
              "      <td>-0.6114</td>\n",
              "      <td>0.571</td>\n",
              "      <td>0.429</td>\n",
              "      <td>0.000</td>\n",
              "    </tr>\n",
              "    <tr>\n",
              "      <th>2</th>\n",
              "      <td>The dumbest thing happened</td>\n",
              "      <td>-0.5106</td>\n",
              "      <td>0.524</td>\n",
              "      <td>0.476</td>\n",
              "      <td>0.000</td>\n",
              "    </tr>\n",
              "    <tr>\n",
              "      <th>3</th>\n",
              "      <td>This is a great workshop!</td>\n",
              "      <td>0.6588</td>\n",
              "      <td>0.000</td>\n",
              "      <td>0.406</td>\n",
              "      <td>0.594</td>\n",
              "    </tr>\n",
              "    <tr>\n",
              "      <th>4</th>\n",
              "      <td>This workshop is horrible</td>\n",
              "      <td>-0.5423</td>\n",
              "      <td>0.538</td>\n",
              "      <td>0.462</td>\n",
              "      <td>0.000</td>\n",
              "    </tr>\n",
              "    <tr>\n",
              "      <th>5</th>\n",
              "      <td>I'm tired...</td>\n",
              "      <td>0.0000</td>\n",
              "      <td>0.000</td>\n",
              "      <td>1.000</td>\n",
              "      <td>0.000</td>\n",
              "    </tr>\n",
              "    <tr>\n",
              "      <th>6</th>\n",
              "      <td>This thing is ok...</td>\n",
              "      <td>0.0000</td>\n",
              "      <td>0.000</td>\n",
              "      <td>1.000</td>\n",
              "      <td>0.000</td>\n",
              "    </tr>\n",
              "  </tbody>\n",
              "</table>\n",
              "</div>"
            ],
            "text/plain": [
              "                     headline  compound    neg    neu    pos\n",
              "0                I love this!    0.6696  0.000  0.182  0.818\n",
              "1        I hate this so much!   -0.6114  0.571  0.429  0.000\n",
              "2  The dumbest thing happened   -0.5106  0.524  0.476  0.000\n",
              "3   This is a great workshop!    0.6588  0.000  0.406  0.594\n",
              "4   This workshop is horrible   -0.5423  0.538  0.462  0.000\n",
              "5                I'm tired...    0.0000  0.000  1.000  0.000\n",
              "6         This thing is ok...    0.0000  0.000  1.000  0.000"
            ]
          },
          "metadata": {
            "tags": []
          },
          "execution_count": 66
        }
      ]
    },
    {
      "metadata": {
        "id": "IAXxdbSTro09",
        "colab_type": "code",
        "outputId": "9fe78c5a-9b28-454b-ccef-35c6815d0b58",
        "colab": {
          "base_uri": "https://localhost:8080/",
          "height": 485
        }
      },
      "cell_type": "code",
      "source": [
        "nltk_df.plot(kind='bar', x = 'headline', y = 'neg');"
      ],
      "execution_count": 0,
      "outputs": [
        {
          "output_type": "display_data",
          "data": {
            "image/png": "[encoded data removed]",
            "text/plain": [
              "<Figure size 576x396 with 1 Axes>"
            ]
          },
          "metadata": {
            "tags": []
          }
        }
      ]
    },
    {
      "metadata": {
        "id": "7MKxLI6OS9jk",
        "colab_type": "code",
        "outputId": "4e8fd89d-b1c3-41de-8a0b-e2aa86c6825a",
        "colab": {
          "base_uri": "https://localhost:8080/",
          "height": 481
        }
      },
      "cell_type": "code",
      "source": [
        "nltk_df.plot(kind='bar', x = 'headline', y = 'neu');"
      ],
      "execution_count": 0,
      "outputs": [
        {
          "output_type": "display_data",
          "data": {
            "image/png": "[encoded data removed]",
            "text/plain": [
              "<Figure size 576x396 with 1 Axes>"
            ]
          },
          "metadata": {
            "tags": []
          }
        }
      ]
    },
    {
      "metadata": {
        "id": "tk345Nk6S-IY",
        "colab_type": "code",
        "outputId": "e48b6347-cbba-4339-c008-22918bc4cb6f",
        "colab": {
          "base_uri": "https://localhost:8080/",
          "height": 481
        }
      },
      "cell_type": "code",
      "source": [
        "nltk_df.plot(kind='bar', x = 'headline', y = 'pos');"
      ],
      "execution_count": 0,
      "outputs": [
        {
          "output_type": "display_data",
          "data": {
            "image/png": "[encoded data removed]",
            "text/plain": [
              "<Figure size 576x396 with 1 Axes>"
            ]
          },
          "metadata": {
            "tags": []
          }
        }
      ]
    },
    {
      "metadata": {
        "id": "0_sKYH3Vv5mh",
        "colab_type": "text"
      },
      "cell_type": "markdown",
      "source": [
        "# Keep Learning Challenges!\n",
        "\n",
        "- Redo everything here locally on your machine by installing python(Anaconda).\n",
        "\n",
        "- Try a different web page! Maybe look at news site and analyze the headlines or content!\n",
        "\n",
        "- Try making better visualizations with Matplotlib\n",
        "\n",
        "- Save to a file or database on your computer\n",
        "\n",
        "- Scrape Wikipedia page for a famous person and get their age, does it work if the person is no longer alive?\n",
        "\n",
        "- Look up how to navigate and scrape pages linked together\n",
        "\n",
        "  "
      ]
    },
    {
      "metadata": {
        "id": "FNYASq5XX6lp",
        "colab_type": "text"
      },
      "cell_type": "markdown",
      "source": [
        "# Resources:\n",
        "\n",
        "- [Free Data Science Prep](https://www.galvanize.com/data-science-prep)\n",
        "\n",
        "\n",
        "- Checkout [Scrapy](https://scrapy.org/). Another python module foring doing web scraping. \n"
      ]
    },
    {
      "metadata": {
        "id": "y_a0wYMhYBH4",
        "colab_type": "text"
      },
      "cell_type": "markdown",
      "source": [
        "## What is Galvanize?\n",
        "###### We are a community!\n",
        "\n",
        "\n",
        "#### Immersive Bootcamp\n",
        "\n",
        "- [Data Science](https://www.galvanize.com/data-science) - 5/6/19 - 8/2/19 \n",
        "\n",
        "- [Software Engineer](https://www.galvanize.com/web-development) - 2/19/19 - 5/17/19\n",
        "\n",
        "#### Part-Time Courses\n",
        "\n",
        "- [Data Analytics](https://www.galvanize.com/part-time/data-analytics) 2/12/19 - 5/2/19\n",
        "- [Python Fundamentals](https://www.galvanize.com/part-time/data-science-fundamentals) - 2/20/19 - 3/29/19\n",
        "\n",
        "#### Co-working Space\n",
        "\n",
        "[work in our building!](https://www.galvanize.com/entrepreneur)\n",
        "\n",
        "#### We are a community\n",
        "\n",
        "## Questions\n",
        "\n",
        "Please feel free to reach out to me with any questions! Let me know what you're planning to do next and how I can help!\n",
        "\n",
        "\n",
        "- Website: [sageelliott.com](http://sageelliott.com/)\n",
        "- Twitter: [@sagecodes](https://twitter.com/@sagecodes)\n",
        "- LinkedIn: [sageelliott](https://www.linkedin.com/in/sageelliott/) \n",
        "- Email: [sage.elliott@galvanize.com](mailto:sage.elliott@galvanize.com)\n"
      ]
    },
    {
      "metadata": {
        "id": "BOt07_2zYFR0",
        "colab_type": "text"
      },
      "cell_type": "markdown",
      "source": [
        "Follow Sage on twitter [@sagecodes](https://twitter.com/sagecodes) or connect on [linkedin](https://www.linkedin.com/in/sageelliott/) "
      ]
    },
    {
      "metadata": {
        "id": "7fB2ieBIYTjt",
        "colab_type": "code",
        "colab": {}
      },
      "cell_type": "code",
      "source": [
        ""
      ],
      "execution_count": 0,
      "outputs": []
    }
  ]
}